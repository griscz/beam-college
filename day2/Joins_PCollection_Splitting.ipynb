{
  "nbformat": 4,
  "nbformat_minor": 0,
  "metadata": {
    "colab": {
      "name": "Joins & PCollection Splitting.ipynb",
      "provenance": []
    },
    "kernelspec": {
      "name": "python3",
      "display_name": "Python 3"
    }
  },
  "cells": [
    {
      "cell_type": "markdown",
      "metadata": {
        "id": "HXTmYjbZiXhE"
      },
      "source": [
        "# *Joins & PCollection splitting*\n",
        "\n",
        "*How to merge and brach PCollections*\n",
        "\n",
        "\n",
        "Let's start installing and importing Beam"
      ]
    },
    {
      "cell_type": "code",
      "metadata": {
        "id": "EC4RT9p3yPOS"
      },
      "source": [
        "%pip install -q apache-beam[interactive]==2.28.0 --no-warn-conflicts"
      ],
      "execution_count": null,
      "outputs": []
    },
    {
      "cell_type": "markdown",
      "metadata": {
        "id": "006RghwmnPL1"
      },
      "source": [
        "Now, restart the runtime (either \"*Runtime/Restart runtime*\" in the top bar or *Ctrl+M*)"
      ]
    },
    {
      "cell_type": "code",
      "metadata": {
        "id": "u7_9iWquyTfv"
      },
      "source": [
        "import apache_beam as beam\n",
        "from apache_beam import pvalue\n",
        "from apache_beam import Create, FlatMap, Map, ParDo, Flatten, Partition\n",
        "from apache_beam import Values, CoGroupByKey\n",
        "from apache_beam import pvalue, window, WindowInto\n",
        "from apache_beam.transforms import trigger\n",
        "\n",
        "from apache_beam.runners.interactive.interactive_runner import InteractiveRunner\n",
        "import apache_beam.runners.interactive.interactive_beam as ib\n",
        "\n",
        "import time\n",
        "import random"
      ],
      "execution_count": null,
      "outputs": []
    },
    {
      "cell_type": "markdown",
      "metadata": {
        "id": "XS232alukJa0"
      },
      "source": [
        "## PCollection Splitting \n",
        "\n",
        "We will see ways we can take a `PCollection` and output more than one `PCollection`."
      ]
    },
    {
      "cell_type": "markdown",
      "metadata": {
        "id": "pZYvTIliw0Ti"
      },
      "source": [
        "\n",
        "This first example show us how to reference a `PCollection` in case we want to use the same input but perform different transforms. We can accomplish this just by referencing the previous `PCollection`. We are going to use this to extract each column from our input."
      ]
    },
    {
      "cell_type": "code",
      "metadata": {
        "id": "BiMWmhLQyh3I"
      },
      "source": [
        "p = beam.Pipeline(InteractiveRunner())\n",
        "\n",
        "elements = [\n",
        "           {\"name\": \"Rebecca\", \"sport\": \"Soccer\"},\n",
        "           {\"name\": \"Tom\", \"sport\": \"Rugby\"},\n",
        "           {\"name\": \"Guillem\", \"sport\": \"Volley\"},\n",
        "           {\"name\": \"Ana\", \"sport\": \"Hockey\"},\n",
        "           {\"name\": \"Alice\", \"sport\": \"Football\"},\n",
        "           {\"name\": \"Kim\", \"sport\": \"Tennis\"},\n",
        "]\n",
        "\n",
        "elements_pcol = p | \"Create\" >> Create(elements)\n",
        "\n",
        "names = elements_pcol | \"Names\" >> Map(lambda x: x[\"name\"])\n",
        "sports = elements_pcol | \"Sport\" >> Map(lambda x: x[\"sport\"])\n",
        "\n",
        "ib.show_graph(p)\n",
        "ib.show(names, sports)"
      ],
      "execution_count": null,
      "outputs": []
    },
    {
      "cell_type": "markdown",
      "metadata": {
        "id": "UwkGdOU-xU1F"
      },
      "source": [
        "\n",
        "\n",
        "---\n",
        "\n",
        "\n",
        "\n",
        "\n",
        "What if we don't want all elements from the previous `PCollection` to go to the next input but we want to split the `PCollection`? We can use `Partition`.\n",
        "\n",
        "**`Partition`** sends elements to different `PTransforms` following a given function. It applies a function element-wise which outputs the index of the pipeline which the element should go to."
      ]
    },
    {
      "cell_type": "code",
      "metadata": {
        "id": "ZB7M4-p479Y7"
      },
      "source": [
        "p = beam.Pipeline(InteractiveRunner())\n",
        "\n",
        "even, odd = (p | \"Create Numbers\" >> Create(range(10))\n",
        "               | \"Odd or Even\" >> Partition(lambda n, partitions: n % 2, 2))\n",
        "# lambda x,y: which partition fn, number partitions\n",
        "# even is when the fn outputs 0, odd when it outputs 1\n",
        "\n",
        "ib.show(even, odd)"
      ],
      "execution_count": null,
      "outputs": []
    },
    {
      "cell_type": "markdown",
      "metadata": {
        "id": "jhTH6KPu93Ep"
      },
      "source": [
        "In the previous example, the lambda function had in the left side `x % 2`, which will tell us to which index the element should go to, and in the right side `2`, which is the total of indexes the ouput will have. Try modifying the example to use `mod 3` instead of `mod 2`.\n",
        "\n",
        "A common use of `Partition` is splitting our machine learning dataset into *train, test*."
      ]
    },
    {
      "cell_type": "code",
      "metadata": {
        "id": "s63_9J2-bdLw"
      },
      "source": [
        "p = beam.Pipeline(InteractiveRunner())\n",
        "\n",
        "percentage = 0.9\n",
        "\n",
        "test, train = (p | Create(range(100))\n",
        "                 | Partition(lambda x, y: int(random.random() < percentage), 2))\n",
        "\n",
        "ib.show(test, train)"
      ],
      "execution_count": null,
      "outputs": []
    },
    {
      "cell_type": "markdown",
      "metadata": {
        "id": "Cmj_LhocbB4M"
      },
      "source": [
        "---\n",
        "\n",
        "This option still does not cover all possibilities. What if you wanted a particular element to fall into two or more different categories?\n",
        "\n",
        "We can use `ParDo` and the `TaggedOutput` option to achieve this. This is the most flexible way to branch `PCollections`."
      ]
    },
    {
      "cell_type": "code",
      "metadata": {
        "id": "JyzQ3aa5ymyn"
      },
      "source": [
        "p = beam.Pipeline(InteractiveRunner())\n",
        "\n",
        "class DifferentOutputsFn(beam.DoFn):\n",
        "    def process(self, element, x, y):\n",
        "        if element % x == 0:\n",
        "            yield pvalue.TaggedOutput(\"x\", element)\n",
        "\n",
        "        if element % y == 0:\n",
        "            yield pvalue.TaggedOutput(\"y\", element)\n",
        "\n",
        "        yield element\n",
        "\n",
        "\n",
        "diff_outputs = (p | \"Create\" >> Create(range(8))\n",
        "                  | \"Split Outputs\" >> ParDo(DifferentOutputsFn(), x=2, y=3).with_outputs(\"x\", \"y\"))\n",
        "\n",
        "multiple_x = diff_outputs.x\n",
        "multiple_y = diff_outputs.y\n",
        "all_outputs = diff_outputs[None] \n",
        "\n",
        "ib.show_graph(p)\n",
        "ib.show(multiple_x, multiple_y, all_outputs)"
      ],
      "execution_count": null,
      "outputs": []
    },
    {
      "cell_type": "markdown",
      "metadata": {
        "id": "F7_vp_ZutToQ"
      },
      "source": [
        "Let's go through the code. \n",
        "\n",
        "We are sending the elements to three subsections:\n",
        "\n",
        "- Containing the multiples of X and/or Y: \n",
        "    * To send elements to those sections, use `yield` to that tagged output: `yield pvalue.TaggedOutput(\"x\", element)`\n",
        "    * To retrieve elements from that pipeline, simply refer to the original subpipeline `diff_outputs` with the tagged key *x* or *y*: `diff_outputs.x`\n",
        "\n",
        "\n",
        "- All elements: \n",
        "    * In this case, there is no need to specify the tagged output, so simply use `yield`\n",
        "    * To get this output, reference the elements without a tag by using `diff_outputs[None]`\n",
        "    \n",
        "Also, let's check how the `ParDo` is being used:\n",
        "\n",
        "- `ParDo(DifferentOutputsFn(), x=2, y=3).with_outputs(\"x\", \"y\"))`\n",
        "    * Use `with_outputs` to reference the name of the tagged outputs\n",
        "    * Note how the parameters `x` and `y` are passed to the `DifferentOutputsFn` Class"
      ]
    },
    {
      "cell_type": "markdown",
      "metadata": {
        "id": "L2naxfPtC-8b"
      },
      "source": [
        "## PCollection Merging \n",
        "\n",
        "We have seen how to branch out `PCollections`, let's see how we can merge them back"
      ]
    },
    {
      "cell_type": "markdown",
      "metadata": {
        "id": "I3bbubMqAlcN"
      },
      "source": [
        "**`Flatten`** combines two or more `PCollections` into one. It takes elements for all input `PCollections` and outputs them as one `PCollection`. It's the equivalent of `UNION` in SQL."
      ]
    },
    {
      "cell_type": "code",
      "metadata": {
        "id": "wV_B4IQPXua3"
      },
      "source": [
        "p = beam.Pipeline(InteractiveRunner())\n",
        "\n",
        "elements_1 = [\n",
        "           {\"name\": \"Rebecca\", \"sport\": \"Soccer\"},\n",
        "           {\"name\": \"Tom\", \"sport\": \"Rugby\"},\n",
        "           {\"name\": \"Guillem\", \"sport\": \"Volley\"}\n",
        "]\n",
        "\n",
        "elements_2 = [\n",
        "           {\"name\": \"Ana\", \"sport\": \"Hockey\"},\n",
        "           {\"name\": \"Alice\", \"sport\": \"Football\"},\n",
        "           {\"name\": \"Kim\", \"sport\": \"Tennis\"},\n",
        "]\n",
        "\n",
        "create_1 = p | \"Create 1\" >> Create(elements_1)\n",
        "create_2 = p | \"Create 2\" >> Create(elements_2)\n",
        "\n",
        "# Left side of | has to be a tuple\n",
        "flattened = (create_1, create_2) | Flatten()\n",
        "\n",
        "ib.show_graph(p)\n",
        "ib.show(flattened)"
      ],
      "execution_count": null,
      "outputs": []
    },
    {
      "cell_type": "markdown",
      "metadata": {
        "id": "8DR9ynUFxNV5"
      },
      "source": [
        "**`CoGroupByKey`** Aggregates all input elements by their key and allows downstream processing to consume all values associated with the key. While `GroupByKey` performs this operation over a single input collection and thus a single type of input values, `CoGroupByKey` operates over multiple input collections. As a result, the result for each key is a tuple of the values associated with that key in each input collection."
      ]
    },
    {
      "cell_type": "code",
      "metadata": {
        "id": "oOX6j2vZAqp-"
      },
      "source": [
        "p = beam.Pipeline(InteractiveRunner())\n",
        "\n",
        "jobs = [\n",
        "    (\"John\", \"Data Scientist\"),\n",
        "    (\"Rebecca\", \"Full Stack Engineer\"),\n",
        "    (\"John\", \"Data Engineer\"),\n",
        "    (\"Alice\", \"CEO\"),\n",
        "    (\"Charles\", \"Web Designer\"),\n",
        "    (\"Ruben\", \"Tech Writer\")\n",
        "]\n",
        "\n",
        "hobbies = [\n",
        "    (\"John\", \"Baseball\"),\n",
        "    (\"Rebecca\", \"Football\"),\n",
        "    (\"John\", \"Piano\"),\n",
        "    (\"Alice\", \"Photoshop\"),\n",
        "    (\"Charles\", \"Coding\"),\n",
        "    (\"Rebecca\", \"Acting\"),\n",
        "    (\"Rebecca\", \"Reading\")\n",
        "]\n",
        "\n",
        "jobs_create = p | \"Create Jobs\" >> Create(jobs)\n",
        "hobbies_create = p | \"Create Hobbies\" >> Create(hobbies)\n",
        "\n",
        "cogbk = {\"jobs\": jobs_create, \"hobbies\": hobbies_create} | CoGroupByKey()\n",
        "\n",
        "ib.show_graph(p)\n",
        "ib.show(cogbk)"
      ],
      "execution_count": null,
      "outputs": []
    },
    {
      "cell_type": "markdown",
      "metadata": {
        "id": "eutOy-PiB2X2"
      },
      "source": [
        "We can use **`CoGroupByKey`** as `join` with some modifications, just by going through the `CoGroupByKey` output. The next example is a inner join per element."
      ]
    },
    {
      "cell_type": "code",
      "metadata": {
        "id": "CKMPsKv6BjLh"
      },
      "source": [
        "def inner_join(element):\n",
        "  name = element[0]\n",
        "  jobs = element[1][\"jobs\"]\n",
        "  hobbies = element[1][\"hobbies\"]\n",
        "  joined =  [{\"name\": name,\n",
        "              \"job\": job,\n",
        "              \"hobbie\": hobbie}\n",
        "             for job in jobs for hobbie in hobbies]\n",
        "  return joined\n",
        "\n",
        "join = cogbk | FlatMap(inner_join)\n",
        "\n",
        "ib.show(join)"
      ],
      "execution_count": null,
      "outputs": []
    },
    {
      "cell_type": "markdown",
      "metadata": {
        "id": "Uqh4zrH6IbDc"
      },
      "source": [
        "### Side Inputs\n",
        "\n",
        "Pipelines can use `PCollections` as parameters in functions, using `Side Inputs`. This parameter can be treated as a dictionary, as a list, as a singleton, or as an iterable. More details in the [Apache Beam documentation](https://beam.apache.org/releases/pydoc/current/apache_beam.pvalue.html).\n",
        "\n",
        "We use `Side Inputs` instead of `joins` when there's no direct relation between the the main input and side input but we want to enrinch our data or when the right size of the table is very small and fit in memory (broadcast join)."
      ]
    },
    {
      "cell_type": "code",
      "metadata": {
        "id": "POYUye1bDOI5"
      },
      "source": [
        "p = beam.Pipeline(InteractiveRunner())\n",
        "\n",
        "values = [\n",
        "    {\"currency\": \"USD\", \"amount\": 2.728281},\n",
        "    {\"currency\": \"EUR\", \"amount\": 3.141592},\n",
        "    {\"currency\": \"CHF\", \"amount\": 1729},\n",
        "]\n",
        "\n",
        "eur = {\"CHF\": 1.05, \"EUR\": 1, \"USD\": 1.09}\n",
        "usd = {\"CHF\": 0.966, \"EUR\": 0.912, \"USD\": 1}\n",
        "chf = {\"EUR\": 0.944, \"CHF\": 1, \"USD\": 1.035}\n",
        "rates = [\n",
        "         (\"EUR\", eur),\n",
        "         (\"USD\", usd),\n",
        "         (\"CHF\", chf)\n",
        "]\n",
        "\n",
        "\n",
        "def change_currency(value, ratios):\n",
        "    current = value[\"currency\"]\n",
        "    exchanged = {\"Original\": current}\n",
        "    for key in ratios[current]:\n",
        "        exchanged[key] = value[\"amount\"] * ratios[current][key]\n",
        "    return [exchanged]\n",
        "\n",
        "rates_pc = p | \"Rates\" >> Create(rates)\n",
        "\n",
        "exchange = (p | Create(values)\n",
        "              | ParDo(change_currency, ratios=pvalue.AsDict(rates_pc)))\n",
        "\n",
        "ib.show_graph(p)\n",
        "ib.show(exchange)"
      ],
      "execution_count": null,
      "outputs": []
    },
    {
      "cell_type": "markdown",
      "metadata": {
        "id": "5JQxARzNAnbk"
      },
      "source": [
        "Let's do now the `join` example we did before with `CoGroupByKey` but with side inputs. We are going to assume `jobs` is rather big but `hobbies` is small in size. This approach saves us shuffling the big dataset."
      ]
    },
    {
      "cell_type": "code",
      "metadata": {
        "id": "aRdfKIe_AmtA"
      },
      "source": [
        "p = beam.Pipeline(InteractiveRunner())\n",
        "\n",
        "jobs = [\n",
        "    (\"John\", \"Data Scientist\"),\n",
        "    (\"Rebecca\", \"Full Stack Engineer\"),\n",
        "    (\"John\", \"Data Engineer\"),\n",
        "    (\"Alice\", \"CEO\"),\n",
        "    (\"Charles\", \"Web Designer\"),\n",
        "    (\"Ruben\", \"Tech Writer\")\n",
        "]\n",
        "\n",
        "hobbies = [\n",
        "    (\"John\", \"Baseball\"),\n",
        "    (\"Rebecca\", \"Football\"),\n",
        "    (\"John\", \"Piano\"),\n",
        "    (\"Alice\", \"Photoshop\"),\n",
        "    (\"Charles\", \"Coding\"),\n",
        "    (\"Rebecca\", \"Acting\"),\n",
        "    (\"Rebecca\", \"Reading\")\n",
        "]\n",
        "\n",
        "def broadcast_inner_join(element, side_input):\n",
        "  name = element[0]\n",
        "  job = element[1]\n",
        "  hobbies = side_input.get(name, [])\n",
        "\n",
        "  joined =  [{\"name\": name,\n",
        "              \"job\": job,\n",
        "              \"hobbie\": hobbie}\n",
        "             for hobbie in hobbies]\n",
        "  return joined\n",
        "\n",
        "hobbies_create = (p | \"Create Hobbies\" >> Create(hobbies) \n",
        "                    | beam.GroupByKey()\n",
        "                )\n",
        "\n",
        "jobs_create = p | \"Create Jobs\" >> Create(jobs)\n",
        "\n",
        "boardcast_join = jobs_create | FlatMap(broadcast_inner_join, \n",
        "                                        side_input=pvalue.AsDict(hobbies_create))\n",
        "                  \n",
        "\n",
        "ib.show_graph(p)\n",
        "ib.show(boardcast_join)"
      ],
      "execution_count": null,
      "outputs": []
    },
    {
      "cell_type": "markdown",
      "metadata": {
        "id": "1Lq_zghtFCvR"
      },
      "source": [
        "### Side Inputs and windows\n",
        "\n",
        "The Side inputs also work on a Window basis.  "
      ]
    },
    {
      "cell_type": "markdown",
      "metadata": {
        "id": "hHHX0m97XC3y"
      },
      "source": [
        "![side_fixed.png](data:image/png;base64,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) "
      ]
    },
    {
      "cell_type": "code",
      "metadata": {
        "id": "nvGpu4qrIexE"
      },
      "source": [
        "p = beam.Pipeline(InteractiveRunner())\n",
        "\n",
        "values = [\n",
        "    {\"amount\": 10, \"timestamp\": 0},\n",
        "    {\"amount\": 5, \"timestamp\": 50},\n",
        "    {\"amount\": 32, \"timestamp\": 100},\n",
        "]\n",
        "\n",
        "rates_USD_EUR = [\n",
        "    {\"rate\": 0.91, \"timestamp\": 0},\n",
        "    {\"rate\": 0.88, \"timestamp\": 100},    \n",
        "]\n",
        "\n",
        "\n",
        "def change_currency(value, rate):\n",
        "    value[\"amount_EUR\"] = value[\"amount\"] * rate\n",
        "    value[\"rate\"] = rate\n",
        "    return [value]\n",
        "\n",
        "rates_pc = (p | \"Rates\" >> Create(rates_USD_EUR)\n",
        "              | 'Add timestamps' >> Map(lambda x: window.TimestampedValue(x[\"rate\"], x[\"timestamp\"]))\n",
        "              | \"FixedWindow\" >> WindowInto(window.FixedWindows(100))\n",
        "            )\n",
        "\n",
        "exchange = (p | \"Values\" >> Create(values)\n",
        "              | 'Add timestamps Main' >> Map(lambda x: window.TimestampedValue(x, x[\"timestamp\"]))\n",
        "              | \"FixedWindow Main\" >> WindowInto(window.FixedWindows(50))\n",
        "              | ParDo(change_currency, rate=pvalue.AsSingleton(rates_pc))\n",
        "            )\n",
        "\n",
        "\n",
        "ib.show(exchange)"
      ],
      "execution_count": null,
      "outputs": []
    },
    {
      "cell_type": "markdown",
      "metadata": {
        "id": "V3cWx61_IX_c"
      },
      "source": [
        "### Streaming Example\n",
        "\n",
        "We'll see this in Dataflow"
      ]
    },
    {
      "cell_type": "code",
      "metadata": {
        "id": "U6GcW2jifQvZ"
      },
      "source": [
        "p = beam.Pipeline(DataflowRunner(), options)\n",
        "\n",
        "topic = \"projects/pubsub-public-data/topics/taxirides-realtime\"\n",
        "\n",
        "\n",
        "rates = [\n",
        "        (\"EUR\", 0.91),\n",
        "        (\"CHF\", 0.96),\n",
        "]\n",
        "\n",
        "def change_currency(row, ratios):\n",
        "    new_row = row.copy()\n",
        "    for key in ratios:\n",
        "        new_row[f\"meter_reading_{key}\"] = new_row[\"meter_reading\"] * ratios[key]\n",
        "\n",
        "    logging.info(f\"New row {new_row}\")\n",
        "    return [new_row]\n",
        "\n",
        "rates_pc = p | \"Rates\" >> beam.Create(rates)\n",
        "\n",
        "pubsub = (p | \"Read Topic\" >> ReadFromPubSub(topic=topic)\n",
        "            | \"Json Loads\" >> Map(json.loads)\n",
        "            | \"Filter\" >> Filter(lambda x: x[\"ride_status\"] == \"dropoff\")\n",
        "            | \"Parse\" >> Map(lambda x: {\"ride_id\": x[\"ride_id\"], \"meter_reading\": x[\"meter_reading\"]})\n",
        "          )\n",
        "\n",
        "join = pubsub | ParDo(change_currency, ratios=pvalue.AsDict(rates_pc))\n",
        "\n",
        "\n",
        "p.run()"
      ],
      "execution_count": null,
      "outputs": []
    }
  ]
}