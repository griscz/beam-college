{
  "nbformat": 4,
  "nbformat_minor": 0,
  "metadata": {
    "colab": {
      "name": "Advanced grouping and aggregations.ipynb",
      "provenance": [],
      "toc_visible": true
    },
    "kernelspec": {
      "name": "python3",
      "display_name": "Python 3"
    }
  },
  "cells": [
    {
      "cell_type": "markdown",
      "metadata": {
        "id": "VuyiVSltluyD"
      },
      "source": [
        "# *Advanced grouping and aggregations*\n",
        "\n",
        "Let's start installing and importing Beam"
      ]
    },
    {
      "cell_type": "code",
      "metadata": {
        "id": "I7I737_8luMv"
      },
      "source": [
        "%pip install -q apache-beam[interactive] --no-warn-conflicts"
      ],
      "execution_count": null,
      "outputs": []
    },
    {
      "cell_type": "markdown",
      "metadata": {
        "id": "KJcLi9pd9ZS1"
      },
      "source": [
        "In case you get any error running the next cell, restart the runtime (either \"*Runtime/Restart runtime*\" in the top bar or *Ctrl+M*)"
      ]
    },
    {
      "cell_type": "code",
      "metadata": {
        "id": "Hixi95kwwOmj"
      },
      "source": [
        "import apache_beam as beam\n",
        "from apache_beam import pvalue\n",
        "from apache_beam import Create, FlatMap, Map, ParDo, Filter, Flatten\n",
        "from apache_beam import CombineGlobally, CombinePerKey\n",
        "from apache_beam.transforms.combiners import Top, Mean, Count\n",
        "from apache_beam import pvalue, window, WindowInto\n",
        "\n",
        "import logging\n",
        "\n",
        "from apache_beam.runners.interactive.interactive_runner import InteractiveRunner\n",
        "import apache_beam.runners.interactive.interactive_beam as ib"
      ],
      "execution_count": null,
      "outputs": []
    },
    {
      "cell_type": "markdown",
      "metadata": {
        "id": "PLntDPIEw4bc"
      },
      "source": [
        "Some of the basic combiner functions are already built-in:\n",
        "\n",
        "- **`Count`** takes a `PCollection` and outputs the amount of elements.  \n",
        "- **`Top`** outputs the *n* largest/smallest of a `PCollection` given a comparison.  \n",
        "- **`Mean`** outputs the arithmetic mean of a `PCollection`.\n",
        "\n",
        "Combiners can aggregate using the whole `PCollection` or by key using methods:\n",
        "\n",
        "- **`.Globally`** applies the combiner to the whole `PCollection`.\n",
        "- **`.PerKey`** applies the combiner for each key-value in the `Pcollection`."
      ]
    },
    {
      "cell_type": "code",
      "metadata": {
        "id": "XlLRcC5Yw2Su"
      },
      "source": [
        "p = beam.Pipeline(InteractiveRunner())\n",
        "\n",
        "elements = [\n",
        "    {\"country\": \"China\", \"population\": 1389, \"continent\": \"Asia\"},\n",
        "    {\"country\": \"India\", \"population\": 1311, \"continent\": \"Asia\"},\n",
        "    {\"country\": \"Japan\", \"population\": 126, \"continent\": \"Asia\"},        \n",
        "    {\"country\": \"USA\", \"population\": 331, \"continent\": \"America\"},\n",
        "    {\"country\": \"Ireland\", \"population\": 5, \"continent\": \"Europe\"},\n",
        "    {\"country\": \"Indonesia\", \"population\": 273, \"continent\": \"Asia\"},\n",
        "    {\"country\": \"Brazil\", \"population\": 212, \"continent\": \"America\"},\n",
        "    {\"country\": \"Egypt\", \"population\": 102, \"continent\": \"Africa\"},\n",
        "    {\"country\": \"Spain\", \"population\": 47, \"continent\": \"Europe\"},\n",
        "    {\"country\": \"Ghana\", \"population\": 31, \"continent\": \"Africa\"},\n",
        "    {\"country\": \"Australia\", \"population\": 25, \"continent\": \"Oceania\"},\n",
        "]\n",
        "\n",
        "create = (p | \"Create\" >> Create(elements)\n",
        "            | \"Map Keys\" >> Map(lambda x: (x['continent'], x['population'])))\n",
        "\n",
        "element_count_total = create | \"Total Count\" >> Count.Globally()\n",
        "\n",
        "element_count_grouped = create | \"Count Per Key\" >> Count.PerKey()\n",
        "\n",
        "top_grouped = create | \"Top\" >> Top.PerKey(n=2) # We get the top 2\n",
        "\n",
        "mean_grouped = create | \"Mean\" >> Mean.PerKey()\n",
        "\n",
        "\n",
        "ib.show_graph(p)\n",
        "ib.show(element_count_total, element_count_grouped, top_grouped, mean_grouped)"
      ],
      "execution_count": null,
      "outputs": []
    },
    {
      "cell_type": "markdown",
      "metadata": {
        "id": "S86HRDtEl_VZ"
      },
      "source": [
        "We can also create our own **Combiners** and apply them both `Globally` and `PerKey`"
      ]
    },
    {
      "cell_type": "code",
      "metadata": {
        "id": "M7h58DxjSHa_"
      },
      "source": [
        "p = beam.Pipeline(InteractiveRunner())\n",
        "\n",
        "elements = [\"Lorem ipsum dolor sit amet. Consectetur adipiscing elit\",\n",
        "            \"Sed eu velit nec sem vulputate loborti\",\n",
        "            \"In lobortis augue vitae sagittis molestie. Mauris volutpat tortor non purus elementum\",\n",
        "            \"Ut blandit massa et risus sollicitudin auctor\"]\n",
        "\n",
        "combine = (p | \"Create\" >> Create(elements)\n",
        "             | \"Join\" >> CombineGlobally(lambda x: \". \".join(x)))\n",
        "\n",
        "ib.show(combine)"
      ],
      "execution_count": null,
      "outputs": []
    },
    {
      "cell_type": "code",
      "metadata": {
        "id": "p4kFNkDLl-RP"
      },
      "source": [
        "p = beam.Pipeline(InteractiveRunner())\n",
        "\n",
        "elements = [\n",
        "            (\"Latin\", \"Lorem ipsum dolor sit amet. Consectetur adipiscing elit. Sed eu velit nec sem vulputate loborti\"),\n",
        "            (\"Latin\", \"In lobortis augue vitae sagittis molestie. Mauris volutpat tortor non purus elementum\"),\n",
        "            (\"English\", \"But as the riper should by time decease\"),\n",
        "            (\"English\", \"That thereby beauty's rose might never die\"),\n",
        "            (\"English\", \"From fairest creatures we desire increase\"),\n",
        "            (\"Spanish\", \"tiempo que vivía un hidalgo de los de lanza en astillero, awindow_pcdarga antigua\"),\n",
        "            (\"Spanish\", \"En un lugar de la Mancha, de cuyo nombre no quiero acordarme, no ha mucho\"),\n",
        "]\n",
        "\n",
        "combine_key = (p | \"Create\" >> Create(elements)\n",
        "                 | \"Join By Language\" >> CombinePerKey(lambda x: \". \".join(x)))\n",
        "\n",
        "ib.show(combine_key)"
      ],
      "execution_count": null,
      "outputs": []
    },
    {
      "cell_type": "markdown",
      "metadata": {
        "id": "a-dZSQzgt_oX"
      },
      "source": [
        "**Combiners** also work on a window basis"
      ]
    },
    {
      "cell_type": "code",
      "metadata": {
        "id": "EpqMLUJdsPkd"
      },
      "source": [
        "p = beam.Pipeline(InteractiveRunner())\n",
        "\n",
        "scores = [\n",
        "    {\"player\": \"Marina\", \"score\": 1000, \"timestamp\": 0},\n",
        "    {\"player\": \"Cristina\", \"score\": 2000, \"timestamp\": 10},\n",
        "    {\"player\": \"Cristina\", \"score\": 2000, \"timestamp\": 50},\n",
        "    {\"player\": \"Marina\", \"score\": 3000, \"timestamp\": 110},\n",
        "    {\"player\": \"Juan\", \"score\": 2000, \"timestamp\": 90},\n",
        "    {\"player\": \"Cristina\", \"score\": 2000, \"timestamp\": 80},\n",
        "    {\"player\": \"Juan\", \"score\": 1000, \"timestamp\": 100},      \n",
        "]\n",
        "\n",
        "create = (p | \"Create\" >> Create(scores)\n",
        "            | \"Add timestamps\" >> Map(lambda x: window.TimestampedValue(x, x[\"timestamp\"]))\n",
        "            | \"To KV\" >> Map(lambda x: (x[\"player\"], x[\"score\"]))\n",
        "          )\n",
        "\n",
        "windowed = create | \"FixedWindow\" >> WindowInto(window.FixedWindows(60))\n",
        "total_key = windowed | \"Total Per Key\" >> CombinePerKey(sum)\n",
        "\n",
        "ib.show(total_key, include_window_info=True)"
      ],
      "execution_count": null,
      "outputs": []
    },
    {
      "cell_type": "markdown",
      "metadata": {
        "id": "3wRPgYuLGBYO"
      },
      "source": [
        "When using **windows** and **global combiners** we need to add `without_defaults`. This is because the default behaviour is to return a `PCollection` of one element for empty windows.\n",
        "\n"
      ]
    },
    {
      "cell_type": "code",
      "metadata": {
        "id": "0kiji9GuuzQx"
      },
      "source": [
        "total = (windowed | Map(lambda x: x[1])\n",
        "                  | \"Total\" >> CombineGlobally(sum).without_defaults())\n",
        "\n",
        "ib.show(total, include_window_info=True)"
      ],
      "execution_count": null,
      "outputs": []
    },
    {
      "cell_type": "markdown",
      "metadata": {
        "id": "Xt_vUBDWLuv5"
      },
      "source": [
        "\n",
        "\n",
        "\n",
        "\n",
        "---\n",
        "Let's try now to create our own `Combiner`. We are going to try to make our copy of `Mean` (i.e., a `Combiner` that calculates the average).\n",
        "\n",
        "\n",
        "\n"
      ]
    },
    {
      "cell_type": "code",
      "metadata": {
        "id": "RcNk88WMG1NI"
      },
      "source": [
        "p = beam.Pipeline(InteractiveRunner())\n",
        "\n",
        "def average_fn(elements):\n",
        "  # print(elements)\n",
        "  list_elements = list(elements)\n",
        "  return sum(list_elements)/len(list_elements)\n",
        "\n",
        "\n",
        "average = (p | \"Create\" >> Create(range(1000))\n",
        "             | CombineGlobally(average_fn))\n",
        "\n",
        "ib.show(average)"
      ],
      "execution_count": null,
      "outputs": []
    },
    {
      "cell_type": "markdown",
      "metadata": {
        "id": "gWufeGpLi_zJ"
      },
      "source": [
        "We can see that output is wrong, the average of the first 100 non-negative integers is not 93.95. But why do we get that value?\n",
        "\n"
      ]
    },
    {
      "cell_type": "code",
      "metadata": {
        "id": "hhGVQ69-jPhM"
      },
      "source": [
        "sum(range(100)) / 100"
      ],
      "execution_count": null,
      "outputs": []
    },
    {
      "cell_type": "markdown",
      "metadata": {
        "id": "IlGFOKnQkZhs"
      },
      "source": [
        "We are going to need to use the combiner interface:\n",
        "\n",
        "<details><summary>Solution</summary>\n",
        "<p>\n",
        "\n",
        "```\n",
        "p = beam.Pipeline(InteractiveRunner())\n",
        "\n",
        "class AverageFn(beam.CombineFn):\n",
        "  def create_accumulator(self):\n",
        "    sum = 0\n",
        "    count = 0\n",
        "    return sum, count\n",
        "\n",
        "  def add_input(self, accumulator, input):\n",
        "    return accumulator[0] + input, accumulator[1] + 1\n",
        "\n",
        "  def merge_accumulators(self, accumulators):\n",
        "    sums = [x[0] for x in accumulators]\n",
        "    counts = [x[1] for x in accumulators]\n",
        "    return (sum(sums), sum(counts))\n",
        "  \n",
        "  def extract_output(self, final_accumulator):\n",
        "    if final_accumulator[1] != 0:\n",
        "      return final_accumulator[0] / final_accumulator[1]\n",
        "    else:\n",
        "      pass\n",
        "\n",
        "\n",
        "average = (p | \"Create\" >> Create(range(100))\n",
        "             | CombineGlobally(AverageFn()))\n",
        "\n",
        "ib.show(average)\n",
        "```\n",
        "</p>"
      ]
    },
    {
      "cell_type": "markdown",
      "metadata": {
        "id": "0E1FRDMw4HuP"
      },
      "source": [
        "### Streaming Example\n",
        "\n",
        "We'll see this in Dataflow"
      ]
    },
    {
      "cell_type": "code",
      "metadata": {
        "id": "_byP-ihyfSfd"
      },
      "source": [
        "p = beam.Pipeline(DataflowRunner(), options)\n",
        "\n",
        "topic = \"projects/pubsub-public-data/topics/taxirides-realtime\"\n",
        "\n",
        "def first_and_last(element):\n",
        "    key = element[0]\n",
        "    dictionaries = element[1]\n",
        "    output_row = {}\n",
        "    output_row[\"ride_id\"] = key\n",
        "    if len(dictionaries) == 2:\n",
        "        for row in dictionaries:\n",
        "            if row[\"ride_status\"] == \"dropoff\":\n",
        "                output_row[\"dropoff\"] = row[\"timestamp\"]\n",
        "            if row[\"ride_status\"] == \"pickup\":\n",
        "                output_row[\"pickup\"] = row[\"timestamp\"]\n",
        "\n",
        "        logging.info(f\"Final row {output_row}\")\n",
        "        return output_row\n",
        "    else:\n",
        "        logging.warning(f\"Length was {len(dictionaries)}\")\n",
        "        pass\n",
        "      \n",
        "            \n",
        "pubsub = (p | \"Read Topic\" >> ReadFromPubSub(topic=topic)\n",
        "            | \"Json Loads\" >> Map(json.loads)\n",
        "            | \"Filter\" >> Filter(lambda x: x[\"ride_status\"] != \"enroute\")\n",
        "            | \"Parse\" >> Map(lambda x: (x[\"ride_id\"], {\"ride_status\": x[\"ride_status\"], \"timestamp\": x[\"timestamp\"]})) # KV of ride id, dict\n",
        "            | \"Session window\" >> WindowInto(window.Sessions(3600),\n",
        "                                        trigger=trigger.Repeatedly(trigger.AfterCount(2)),\n",
        "                                        accumulation_mode=trigger.AccumulationMode.DISCARDING\n",
        "                                            )\n",
        "            | \"Combine\" >> CombinePerKey(ToListCombineFn())\n",
        "            | Map(first_and_last)\n",
        "        )\n",
        "\n",
        "\n",
        "p.run()"
      ],
      "execution_count": null,
      "outputs": []
    }
  ]
}