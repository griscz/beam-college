{
  "nbformat": 4,
  "nbformat_minor": 0,
  "metadata": {
    "colab": {
      "name": "BC - Demo.ipynb",
      "provenance": [],
      "toc_visible": true,
      "include_colab_link": true
    },
    "kernelspec": {
      "display_name": "Python 3",
      "language": "python",
      "name": "python3"
    },
    "language_info": {
      "codemirror_mode": {
        "name": "ipython",
        "version": 3
      },
      "file_extension": ".py",
      "mimetype": "text/x-python",
      "name": "python",
      "nbconvert_exporter": "python",
      "pygments_lexer": "ipython3",
      "version": "3.8.5"
    }
  },
  "cells": [
    {
      "cell_type": "markdown",
      "metadata": {
        "id": "view-in-github",
        "colab_type": "text"
      },
      "source": [
        "<a href=\"https://colab.research.google.com/github/griscz/beam-college/blob/main/day1/Apache_Beam_Demo.ipynb\" target=\"_parent\"><img src=\"https://colab.research.google.com/assets/colab-badge.svg\" alt=\"Open In Colab\"/></a>"
      ]
    },
    {
      "cell_type": "markdown",
      "metadata": {
        "id": "EFs3pEhEkHlU"
      },
      "source": [
        "\n",
        "# ***Apache Beam Demo and DataflowSQL***\n"
      ]
    },
    {
      "cell_type": "markdown",
      "metadata": {
        "id": "XcY7c1eHjuuL"
      },
      "source": [
        "\n",
        "## ***Apache Beam Demo***\n",
        "\n",
        "Let's start installing and importing Beam"
      ]
    },
    {
      "cell_type": "code",
      "metadata": {
        "id": "WiWniL1Qj8L9"
      },
      "source": [
        "%pip install -q apache-beam[gcp,interactive]==2.28.0 --no-warn-conflicts"
      ],
      "execution_count": null,
      "outputs": []
    },
    {
      "cell_type": "code",
      "metadata": {
        "id": "X13xMXHIaij7"
      },
      "source": [
        "import logging\n",
        "import re\n",
        "\n",
        "from IPython.core.display import display, HTML\n",
        "\n",
        "import apache_beam as beam\n",
        "from apache_beam import FlatMap, Map, Create\n",
        "from apache_beam import window, WindowInto\n",
        "from apache_beam.options.pipeline_options import PipelineOptions\n",
        "from apache_beam.transforms.combiners import Count\n",
        "from apache_beam.io.textio import ReadFromText\n",
        "from apache_beam.io.gcp.pubsub import ReadFromPubSub\n",
        "from apache_beam.io.gcp.bigquery import WriteToBigQuery\n",
        "\n",
        "from apache_beam.runners import DataflowRunner\n",
        "from apache_beam.runners.interactive.interactive_runner import InteractiveRunner\n",
        "import apache_beam.runners.interactive.interactive_beam as ib"
      ],
      "execution_count": null,
      "outputs": []
    },
    {
      "cell_type": "markdown",
      "metadata": {
        "id": "jp1tbju8Y9rf"
      },
      "source": [
        "Since we are going to reach **Google Cloud Platform** to use **Dataflow**, we need to authenticate in GCP.\n",
        "\n",
        "I have downloaded the key of a Service Account ([documentation](https://cloud.google.com/docs/authentication/production)) and stored it in my drive, in a folder called `beam-college`.\n",
        "\n"
      ]
    },
    {
      "cell_type": "code",
      "metadata": {
        "id": "HlpuxvQhkFrk"
      },
      "source": [
        "import google.auth\n",
        "import os"
      ],
      "execution_count": null,
      "outputs": []
    },
    {
      "cell_type": "code",
      "metadata": {
        "id": "FPVLU2z2l29u"
      },
      "source": [
        "os.environ['GOOGLE_APPLICATION_CREDENTIALS'] = '/content/drive/MyDrive/beam-college/beam-key.json'"
      ],
      "execution_count": null,
      "outputs": []
    },
    {
      "cell_type": "markdown",
      "metadata": {
        "id": "sG5c7MI8dyhF"
      },
      "source": [
        "Let's add some variables we will use later to reach **Dataflow**. You may need to create the *Google Cloud Storage Bucket* and *Pub/Sub Topic & Subscription*."
      ]
    },
    {
      "cell_type": "code",
      "metadata": {
        "id": "XqJ3OIrJlyx6"
      },
      "source": [
        "project = google.auth.default()[1]\n",
        "bucket = f\"gs://{project}\"\n",
        "subscription = f\"projects/{project}/subscriptions/{project}-sub\"\n",
        "os.environ['PROJECT'] = project"
      ],
      "execution_count": null,
      "outputs": []
    },
    {
      "cell_type": "markdown",
      "metadata": {
        "id": "gMwFpWqyfHNF"
      },
      "source": [
        "Let's get into the code now, we are going to make the *Hello World* of the data processing systems, a **wordcount**.\n",
        "\n",
        "\n",
        "### Configuration"
      ]
    },
    {
      "cell_type": "code",
      "metadata": {
        "id": "bYGOXNgyVl0x"
      },
      "source": [
        "options = PipelineOptions()\n",
        "\n",
        "p = beam.Pipeline(InteractiveRunner(), options)"
      ],
      "execution_count": null,
      "outputs": []
    },
    {
      "cell_type": "markdown",
      "metadata": {
        "id": "yyTU81ZDg8Ui"
      },
      "source": [
        "### Business Logic"
      ]
    },
    {
      "cell_type": "code",
      "metadata": {
        "id": "1pEMLHyKWAP9"
      },
      "source": [
        "path = \"gs://dataflow-samples/shakespeare/kinglear.txt\"\n",
        "\n",
        "def split_words(text):\n",
        "    words = re.findall(r'[\\w\\']+', text.strip(), re.UNICODE)\n",
        "    return [(x, 1) for x in words]\n",
        "\n",
        "source =\n",
        "\n",
        "count = "
      ],
      "execution_count": null,
      "outputs": []
    },
    {
      "cell_type": "markdown",
      "metadata": {
        "id": "GgMDdb9ThBLe"
      },
      "source": [
        "### Executing the pipeline"
      ]
    },
    {
      "cell_type": "code",
      "metadata": {
        "id": "VGj5J2rda6Bi"
      },
      "source": [
        "ib.show(count)"
      ],
      "execution_count": null,
      "outputs": []
    },
    {
      "cell_type": "code",
      "metadata": {
        "id": "SokokluFbVhK"
      },
      "source": [
        "url = (\"https://console.cloud.google.com/dataflow/jobs/%s/%s?project=%s\" %\n",
        "        (pipeline._job.location, pipeline._job.id, pipeline._job.projectId))\n",
        "\n",
        "display(HTML('Click <a href=\"%s\" target=\"_new\">here</a> for the details of your Dataflow job!' % url))"
      ],
      "execution_count": null,
      "outputs": []
    },
    {
      "cell_type": "markdown",
      "metadata": {
        "id": "mgQpHjjxCexe"
      },
      "source": [
        "### Wordcount solution\n",
        "\n",
        "<details><summary>Solution</summary>\n",
        "<p>\n",
        "\n",
        "```\n",
        "p = beam.Pipeline(InteractiveRunner(), options)\n",
        "\n",
        "path = \"gs://dataflow-samples/shakespeare/kinglear.txt\"\n",
        "\n",
        "def split_words(text):\n",
        "    words = re.findall(r'[\\w\\']+', text.strip(), re.UNICODE)\n",
        "    return [(x, 1) for x in words]\n",
        "\n",
        "source = p | ReadFromText(path)\n",
        "\n",
        "count = (source | FlatMap(split_words)\n",
        "                | Count.PerKey())\n",
        "\n",
        "ib.show(count)\n",
        "```\n",
        "</p>"
      ]
    },
    {
      "cell_type": "markdown",
      "metadata": {
        "id": "XWjyx0yWxUKf"
      },
      "source": [
        "### Moving to DataflowRunner solution\n",
        "\n",
        "<details><summary>Solution</summary>\n",
        "<p>\n",
        "\n",
        "```\n",
        "options = PipelineOptions(\n",
        "              project=project,\n",
        "              region=\"us-central1\",\n",
        "              temp_location=f\"{bucket}/tmp/\",\n",
        "              job_name=\"wordcount-beam-college\"\n",
        ")\n",
        "\n",
        "\n",
        "p = beam.Pipeline(DataflowRunner(), options)\n",
        "\n",
        "path = \"gs://dataflow-samples/shakespeare/kinglear.txt\"\n",
        "\n",
        "def split_words(text):\n",
        "    words = re.findall(r'[\\w\\']+', text.strip(), re.UNICODE)\n",
        "    return [(x, 1) for x in words]\n",
        "\n",
        "source = p | ReadFromText(path)\n",
        "\n",
        "count = (source | FlatMap(split_words)\n",
        "                | Count.PerKey())\n",
        "\n",
        "pipeline = p.run()\n",
        "```\n",
        "</p>"
      ]
    },
    {
      "cell_type": "markdown",
      "metadata": {
        "id": "baT5LINdyj-K"
      },
      "source": [
        "### Moving to Streaming\n",
        "\n",
        "<details><summary>Solution</summary>\n",
        "<p>\n",
        "\n",
        "```\n",
        "options = PipelineOptions(\n",
        "              project=project,\n",
        "              region=\"us-central1\",\n",
        "              temp_location=f\"{bucket}/tmp/\",\n",
        "              job_name=\"wordcount-beam-college-streaming\",\n",
        "              streaming=True\n",
        ")\n",
        "\n",
        "\n",
        "p = beam.Pipeline(DataflowRunner(), options)\n",
        "\n",
        "path = \"gs://dataflow-samples/shakespeare/kinglear.txt\"\n",
        "\n",
        "def split_words(text):\n",
        "    words = re.findall(r'[\\w\\']+', text.strip(), re.UNICODE)\n",
        "    return [(x, 1) for x in words]\n",
        "\n",
        "source = (p | ReadFromPubSub(subscription=subscription)\n",
        "            | \"decode\" >> Map(lambda b: b.decode(\"utf-8\"))\n",
        "            | WindowInto(window.FixedWindows(60)\n",
        "            \n",
        "count = (source | FlatMap(split_words)\n",
        "                | Count.PerKey())\n",
        "\n",
        "pipeline = p.run()\n",
        "```\n",
        "</p>"
      ]
    },
    {
      "cell_type": "markdown",
      "metadata": {
        "id": "tPTQhxGYDeJq"
      },
      "source": [
        "## ***DataflowSQL***\n",
        "\n",
        "For this we are going to head to **BigQuery**. We are going to read from a public **PubSub topic** with taxi rides and calculate the total number of rides and total cost of those rides every minute. We are going to store this in **BigQuery**.\n",
        "\n",
        "The elements in the **PubSub topic** look like this:\n",
        "\n",
        "![taxis.png](data:image/png;base64,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)\n",
        "\n",
        "The query we are going to use:"
      ]
    },
    {
      "cell_type": "markdown",
      "metadata": {
        "id": "o7wSFlKhGV5b"
      },
      "source": [
        "```\n",
        "SELECT\n",
        "  TUMBLE_START('INTERVAL 1 MINUTE') AS period_start,\n",
        "  SUM(meter_reading) AS total_cost,\n",
        "  COUNT(*) AS total_rides\n",
        "FROM\n",
        "  pubsub.topic.`pubsub-public-data`.`taxirides-realtime`\n",
        "WHERE\n",
        "  ride_status = \"dropoff\"\n",
        "GROUP BY\n",
        "  TUMBLE(event_timestamp, 'INTERVAL 1 MINUTE')\n",
        "\n",
        "```\n",
        "\n",
        "\n"
      ]
    },
    {
      "cell_type": "markdown",
      "metadata": {
        "id": "PpbgYnvgjizM"
      },
      "source": [
        "Now we are going to do a `join` with **DataflowSQL**. We are joining the **PubSub** streaming with a table in **BigQuery**. \n",
        "\n",
        "\n",
        "To prepare the environemt, you have the instructions at the end."
      ]
    },
    {
      "cell_type": "markdown",
      "metadata": {
        "id": "5ik8mWnWl_xq"
      },
      "source": [
        "```\n",
        "SELECT\n",
        "  ps.ride_id,\n",
        "  ps.passenger_count,\n",
        "  ps.meter_reading,\n",
        "  ps.meter_reading * bq.discount as meter_after_discount,\n",
        "  bq.discount\n",
        "FROM\n",
        "  pubsub.topic.`pubsub-public-data`.`taxirides-realtime` as ps\n",
        "INNER JOIN\n",
        "  bigquery.table.`TODO:MYPROJECT`.beam_college.discounts as bq\n",
        "ON ps.passenger_count = bq.passenger\n",
        "WHERE\n",
        "  ps.ride_status = \"dropoff\"\n",
        "```"
      ]
    },
    {
      "cell_type": "markdown",
      "metadata": {
        "id": "NVzvSt2Dl_-F"
      },
      "source": [
        "### Preparing the environment\n",
        "\n",
        "You need to create a dataset, and insert data into it."
      ]
    },
    {
      "cell_type": "code",
      "metadata": {
        "id": "l3evdINPkjz5"
      },
      "source": [
        "dataset_id = \"beam_college\"\n",
        "table_id = \"discounts\""
      ],
      "execution_count": null,
      "outputs": []
    },
    {
      "cell_type": "code",
      "metadata": {
        "id": "tgyUs1e8kH4W"
      },
      "source": [
        "from google.cloud import bigquery\n",
        "\n",
        "client = bigquery.Client()\n",
        "\n",
        "dataset = bigquery.Dataset(f\"{project}.{dataset_id}\")\n",
        "client.create_dataset(dataset)\n",
        "print(f\"Created dataset {dataset_id}\")"
      ],
      "execution_count": null,
      "outputs": []
    },
    {
      "cell_type": "markdown",
      "metadata": {
        "id": "AWcNhGoKlnOz"
      },
      "source": [
        "Next cell inserts data into a new table using Beam."
      ]
    },
    {
      "cell_type": "code",
      "metadata": {
        "id": "BxlSdnngLPE_"
      },
      "source": [
        "options = PipelineOptions(\n",
        "    temp_location=f\"{bucket}/tmp/\"\n",
        ")\n",
        "\n",
        "discounts = [\n",
        "    {\"passenger\": 1, \"discount\": 1},\n",
        "    {\"passenger\": 2, \"discount\": 0.95},\n",
        "    {\"passenger\": 3, \"discount\": 0.90},\n",
        "    {\"passenger\": 4, \"discount\": 0.80},\n",
        "    {\"passenger\": 5, \"discount\": 0.70},\n",
        "    {\"passenger\": 6, \"discount\": 0.60},\n",
        "    {\"passenger\": 7, \"discount\": 0.50},\n",
        "]\n",
        "\n",
        "p = beam.Pipeline(options=options)\n",
        "\n",
        "(p | beam.Create(discounts)\n",
        "   | WriteToBigQuery(\n",
        "       table=table_id,\n",
        "       dataset=dataset_id,\n",
        "       project=project,\n",
        "       schema=\"passenger:INTEGER,discount:FLOAT\",\n",
        "       create_disposition=\"CREATE_IF_NEEDED\")\n",
        ")\n",
        "\n",
        "p.run()"
      ],
      "execution_count": null,
      "outputs": []
    }
  ]
}